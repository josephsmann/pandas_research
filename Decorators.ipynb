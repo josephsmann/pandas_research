{
 "cells": [
  {
   "cell_type": "code",
   "execution_count": 1,
   "metadata": {
    "collapsed": false
   },
   "outputs": [
    {
     "name": "stdout",
     "output_type": "stream",
     "text": [
      "/Users/mannalytics/Documents/Notebooks/pandas_research\r\n"
     ]
    }
   ],
   "source": [
    "!pwd\n"
   ]
  },
  {
   "cell_type": "markdown",
   "metadata": {},
   "source": [
    "# Decorators"
   ]
  },
  {
   "cell_type": "code",
   "execution_count": 194,
   "metadata": {
    "collapsed": false,
    "run_control": {
     "marked": false
    }
   },
   "outputs": [],
   "source": [
    "\n",
    "def pivot_ts(*args, **kw):\n",
    "    \"\"\"\n",
    "    *args should just be a dataframe\n",
    "    **kw should just be the standard args for a dataframe\n",
    "    returns a pivoted dataframe that changes the domain of timedeltas to seconds\n",
    "    and then back again after the pivot\n",
    "    \"\"\"\n",
    "    df = args[0]\n",
    "    df['secs'] = df[kw['values']].dt.total_seconds()\n",
    "    df2 = pd.pivot_table(df, index=kw['index'], columns=kw['columns'], values='secs')\n",
    "    return df2.apply(pd.to_timedelta, unit='s')\n",
    "\n",
    "def ts_agg_dec(ds_cols_l):\n",
    "    \"\"\"this decorator takes a list of columns which are timedeltas in a dataframe,\n",
    "    it will change the timedeltas to seconds, apply the decorated function to the dataframe,\n",
    "    and then translate the new dataframe back into timedelta's \n",
    "    - actually it currently requires that whole dataframe is comprised of timedeltas.\n",
    "    \"\"\"\n",
    "    def ts_dec(f):\n",
    "        def wrapper(*args, **kw):\n",
    "            df = args[0].copy()\n",
    "\n",
    "            # translate timedelta's to seconds\n",
    "            for c in ds_cols_l:\n",
    "                df[c] = df[c].dt.total_seconds()\n",
    "            df2 = f(df, **kw) \n",
    "            df2 = df2.apply(pd.to_timedelta, unit='s')\n",
    "            return df2\n",
    "        return wrapper\n",
    "    return ts_dec\n",
    "\n",
    "        "
   ]
  },
  {
   "cell_type": "code",
   "execution_count": 187,
   "metadata": {
    "collapsed": false
   },
   "outputs": [],
   "source": [
    "# this works\n",
    "@ts_agg_dec([\"Calc_time\"])\n",
    "def test(df, index, columns, values):\n",
    "    return pd.pivot_table(df, index=index, columns=columns, values=values)\n",
    "    "
   ]
  },
  {
   "cell_type": "code",
   "execution_count": 188,
   "metadata": {
    "collapsed": false
   },
   "outputs": [],
   "source": [
    "# so does this\n",
    "@ts_agg_dec([\"Calc_time\"])\n",
    "def test2(*args, **kw):\n",
    "    return pd.pivot_table(*args, **kw)\n",
    "    "
   ]
  },
  {
   "cell_type": "code",
   "execution_count": 189,
   "metadata": {
    "collapsed": false
   },
   "outputs": [
    {
     "data": {
      "text/html": [
       "<div>\n",
       "<table border=\"1\" class=\"dataframe\">\n",
       "  <thead>\n",
       "    <tr style=\"text-align: right;\">\n",
       "      <th>lap</th>\n",
       "      <th>1</th>\n",
       "      <th>2</th>\n",
       "      <th>3</th>\n",
       "    </tr>\n",
       "    <tr>\n",
       "      <th>Team</th>\n",
       "      <th></th>\n",
       "      <th></th>\n",
       "      <th></th>\n",
       "    </tr>\n",
       "  </thead>\n",
       "  <tbody>\n",
       "    <tr>\n",
       "      <th>Beavers</th>\n",
       "      <td>00:04:45</td>\n",
       "      <td>00:04:10</td>\n",
       "      <td>00:05:06</td>\n",
       "    </tr>\n",
       "    <tr>\n",
       "      <th>Caribou</th>\n",
       "      <td>00:04:59</td>\n",
       "      <td>00:05:14</td>\n",
       "      <td>00:03:45</td>\n",
       "    </tr>\n",
       "    <tr>\n",
       "      <th>Grizzly Bears</th>\n",
       "      <td>00:03:55</td>\n",
       "      <td>00:05:16</td>\n",
       "      <td>00:03:26</td>\n",
       "    </tr>\n",
       "    <tr>\n",
       "      <th>Lynxes</th>\n",
       "      <td>00:03:50</td>\n",
       "      <td>00:04:15</td>\n",
       "      <td>00:04:02</td>\n",
       "    </tr>\n",
       "    <tr>\n",
       "      <th>Moose</th>\n",
       "      <td>00:07:45</td>\n",
       "      <td>00:10:17</td>\n",
       "      <td>NaT</td>\n",
       "    </tr>\n",
       "    <tr>\n",
       "      <th>Otters</th>\n",
       "      <td>00:05:00</td>\n",
       "      <td>00:08:03</td>\n",
       "      <td>00:05:17</td>\n",
       "    </tr>\n",
       "  </tbody>\n",
       "</table>\n",
       "</div>"
      ],
      "text/plain": [
       "lap                  1        2        3\n",
       "Team                                    \n",
       "Beavers       00:04:45 00:04:10 00:05:06\n",
       "Caribou       00:04:59 00:05:14 00:03:45\n",
       "Grizzly Bears 00:03:55 00:05:16 00:03:26\n",
       "Lynxes        00:03:50 00:04:15 00:04:02\n",
       "Moose         00:07:45 00:10:17      NaT\n",
       "Otters        00:05:00 00:08:03 00:05:17"
      ]
     },
     "execution_count": 189,
     "metadata": {},
     "output_type": "execute_result"
    }
   ],
   "source": [
    "# and so does this!\n",
    "test2(jr121,index='Team', columns='lap',values='Calc_time')"
   ]
  },
  {
   "cell_type": "code",
   "execution_count": 190,
   "metadata": {
    "collapsed": false
   },
   "outputs": [
    {
     "data": {
      "text/html": [
       "<div>\n",
       "<table border=\"1\" class=\"dataframe\">\n",
       "  <thead>\n",
       "    <tr style=\"text-align: right;\">\n",
       "      <th>lap</th>\n",
       "      <th>1</th>\n",
       "      <th>2</th>\n",
       "      <th>3</th>\n",
       "    </tr>\n",
       "    <tr>\n",
       "      <th>Team</th>\n",
       "      <th></th>\n",
       "      <th></th>\n",
       "      <th></th>\n",
       "    </tr>\n",
       "  </thead>\n",
       "  <tbody>\n",
       "    <tr>\n",
       "      <th>Beavers</th>\n",
       "      <td>00:04:45</td>\n",
       "      <td>00:04:10</td>\n",
       "      <td>00:05:06</td>\n",
       "    </tr>\n",
       "    <tr>\n",
       "      <th>Caribou</th>\n",
       "      <td>00:04:59</td>\n",
       "      <td>00:05:14</td>\n",
       "      <td>00:03:45</td>\n",
       "    </tr>\n",
       "    <tr>\n",
       "      <th>Grizzly Bears</th>\n",
       "      <td>00:03:55</td>\n",
       "      <td>00:05:16</td>\n",
       "      <td>00:03:26</td>\n",
       "    </tr>\n",
       "    <tr>\n",
       "      <th>Lynxes</th>\n",
       "      <td>00:03:50</td>\n",
       "      <td>00:04:15</td>\n",
       "      <td>00:04:02</td>\n",
       "    </tr>\n",
       "    <tr>\n",
       "      <th>Moose</th>\n",
       "      <td>00:07:45</td>\n",
       "      <td>00:10:17</td>\n",
       "      <td>NaT</td>\n",
       "    </tr>\n",
       "    <tr>\n",
       "      <th>Otters</th>\n",
       "      <td>00:05:00</td>\n",
       "      <td>00:08:03</td>\n",
       "      <td>00:05:17</td>\n",
       "    </tr>\n",
       "  </tbody>\n",
       "</table>\n",
       "</div>"
      ],
      "text/plain": [
       "lap                  1        2        3\n",
       "Team                                    \n",
       "Beavers       00:04:45 00:04:10 00:05:06\n",
       "Caribou       00:04:59 00:05:14 00:03:45\n",
       "Grizzly Bears 00:03:55 00:05:16 00:03:26\n",
       "Lynxes        00:03:50 00:04:15 00:04:02\n",
       "Moose         00:07:45 00:10:17      NaT\n",
       "Otters        00:05:00 00:08:03 00:05:17"
      ]
     },
     "execution_count": 190,
     "metadata": {},
     "output_type": "execute_result"
    }
   ],
   "source": [
    "# even this does\n",
    "ts_agg_dec(['Calc_time'])(pd.pivot_table)(jr121,index='Team', columns='lap',values='Calc_time')"
   ]
  },
  {
   "cell_type": "code",
   "execution_count": 191,
   "metadata": {
    "collapsed": false
   },
   "outputs": [
    {
     "data": {
      "text/html": [
       "<div>\n",
       "<table border=\"1\" class=\"dataframe\">\n",
       "  <thead>\n",
       "    <tr style=\"text-align: right;\">\n",
       "      <th>lap</th>\n",
       "      <th>1</th>\n",
       "      <th>2</th>\n",
       "      <th>3</th>\n",
       "    </tr>\n",
       "    <tr>\n",
       "      <th>Team</th>\n",
       "      <th></th>\n",
       "      <th></th>\n",
       "      <th></th>\n",
       "    </tr>\n",
       "  </thead>\n",
       "  <tbody>\n",
       "    <tr>\n",
       "      <th>Beavers</th>\n",
       "      <td>00:04:45</td>\n",
       "      <td>00:04:10</td>\n",
       "      <td>00:05:06</td>\n",
       "    </tr>\n",
       "    <tr>\n",
       "      <th>Caribou</th>\n",
       "      <td>00:04:59</td>\n",
       "      <td>00:05:14</td>\n",
       "      <td>00:03:45</td>\n",
       "    </tr>\n",
       "    <tr>\n",
       "      <th>Grizzly Bears</th>\n",
       "      <td>00:03:55</td>\n",
       "      <td>00:05:16</td>\n",
       "      <td>00:03:26</td>\n",
       "    </tr>\n",
       "    <tr>\n",
       "      <th>Lynxes</th>\n",
       "      <td>00:03:50</td>\n",
       "      <td>00:04:15</td>\n",
       "      <td>00:04:02</td>\n",
       "    </tr>\n",
       "    <tr>\n",
       "      <th>Moose</th>\n",
       "      <td>00:07:45</td>\n",
       "      <td>00:10:17</td>\n",
       "      <td>NaT</td>\n",
       "    </tr>\n",
       "    <tr>\n",
       "      <th>Otters</th>\n",
       "      <td>00:05:00</td>\n",
       "      <td>00:08:03</td>\n",
       "      <td>00:05:17</td>\n",
       "    </tr>\n",
       "  </tbody>\n",
       "</table>\n",
       "</div>"
      ],
      "text/plain": [
       "lap                  1        2        3\n",
       "Team                                    \n",
       "Beavers       00:04:45 00:04:10 00:05:06\n",
       "Caribou       00:04:59 00:05:14 00:03:45\n",
       "Grizzly Bears 00:03:55 00:05:16 00:03:26\n",
       "Lynxes        00:03:50 00:04:15 00:04:02\n",
       "Moose         00:07:45 00:10:17      NaT\n",
       "Otters        00:05:00 00:08:03 00:05:17"
      ]
     },
     "execution_count": 191,
     "metadata": {},
     "output_type": "execute_result"
    }
   ],
   "source": [
    "test(jr121,index='Team', columns='lap',values='Calc_time')"
   ]
  },
  {
   "cell_type": "code",
   "execution_count": 168,
   "metadata": {
    "collapsed": false,
    "scrolled": true
   },
   "outputs": [
    {
     "data": {
      "text/plain": [
       "lap                      int64\n",
       "FirstName               object\n",
       "LastName                object\n",
       "Category                object\n",
       "Start_time              object\n",
       "Watch_time     timedelta64[ns]\n",
       "Calc_time      timedelta64[ns]\n",
       "Team                    object\n",
       "Offset_time    timedelta64[ns]\n",
       "Offset_secs            float64\n",
       "dtype: object"
      ]
     },
     "execution_count": 168,
     "metadata": {},
     "output_type": "execute_result"
    }
   ],
   "source": [
    "jr121.dtypes"
   ]
  },
  {
   "cell_type": "code",
   "execution_count": 130,
   "metadata": {
    "collapsed": false,
    "run_control": {
     "marked": false
    }
   },
   "outputs": [
    {
     "data": {
      "text/html": [
       "<div>\n",
       "<table border=\"1\" class=\"dataframe\">\n",
       "  <thead>\n",
       "    <tr style=\"text-align: right;\">\n",
       "      <th>lap</th>\n",
       "      <th>1</th>\n",
       "      <th>2</th>\n",
       "      <th>3</th>\n",
       "    </tr>\n",
       "    <tr>\n",
       "      <th>Team</th>\n",
       "      <th></th>\n",
       "      <th></th>\n",
       "      <th></th>\n",
       "    </tr>\n",
       "  </thead>\n",
       "  <tbody>\n",
       "    <tr>\n",
       "      <th>Beavers</th>\n",
       "      <td>00:00:55</td>\n",
       "      <td>00:05:05</td>\n",
       "      <td>00:10:11</td>\n",
       "    </tr>\n",
       "    <tr>\n",
       "      <th>Caribou</th>\n",
       "      <td>00:01:09</td>\n",
       "      <td>00:06:23</td>\n",
       "      <td>00:10:08</td>\n",
       "    </tr>\n",
       "    <tr>\n",
       "      <th>Grizzly Bears</th>\n",
       "      <td>00:00:05</td>\n",
       "      <td>00:05:21</td>\n",
       "      <td>00:08:47</td>\n",
       "    </tr>\n",
       "    <tr>\n",
       "      <th>Lynxes</th>\n",
       "      <td>00:00:00</td>\n",
       "      <td>00:04:15</td>\n",
       "      <td>00:08:17</td>\n",
       "    </tr>\n",
       "    <tr>\n",
       "      <th>Moose</th>\n",
       "      <td>00:03:55</td>\n",
       "      <td>00:14:12</td>\n",
       "      <td>NaT</td>\n",
       "    </tr>\n",
       "    <tr>\n",
       "      <th>Otters</th>\n",
       "      <td>00:01:10</td>\n",
       "      <td>00:09:13</td>\n",
       "      <td>00:14:30</td>\n",
       "    </tr>\n",
       "  </tbody>\n",
       "</table>\n",
       "</div>"
      ],
      "text/plain": [
       "lap                  1        2        3\n",
       "Team                                    \n",
       "Beavers       00:00:55 00:05:05 00:10:11\n",
       "Caribou       00:01:09 00:06:23 00:10:08\n",
       "Grizzly Bears 00:00:05 00:05:21 00:08:47\n",
       "Lynxes        00:00:00 00:04:15 00:08:17\n",
       "Moose         00:03:55 00:14:12      NaT\n",
       "Otters        00:01:10 00:09:13 00:14:30"
      ]
     },
     "execution_count": 130,
     "metadata": {},
     "output_type": "execute_result"
    }
   ],
   "source": [
    "pivot_ts(jr121, index='Team', columns='lap', values='Offset_time')"
   ]
  }
 ],
 "metadata": {
  "kernelspec": {
   "display_name": "Python 3",
   "language": "python",
   "name": "python3"
  },
  "language_info": {
   "codemirror_mode": {
    "name": "ipython",
    "version": 3
   },
   "file_extension": ".py",
   "mimetype": "text/x-python",
   "name": "python",
   "nbconvert_exporter": "python",
   "pygments_lexer": "ipython3",
   "version": "3.5.3"
  },
  "toc": {
   "colors": {
    "hover_highlight": "#DAA520",
    "running_highlight": "#FF0000",
    "selected_highlight": "#FFD700"
   },
   "moveMenuLeft": true,
   "nav_menu": {
    "height": "30px",
    "width": "252px"
   },
   "navigate_menu": true,
   "number_sections": true,
   "sideBar": true,
   "threshold": 4,
   "toc_cell": false,
   "toc_section_display": "block",
   "toc_window_display": false
  }
 },
 "nbformat": 4,
 "nbformat_minor": 2
}
